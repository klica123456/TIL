{
 "cells": [
  {
   "cell_type": "code",
   "execution_count": null,
   "metadata": {},
   "outputs": [],
   "source": []
  },
  {
   "cell_type": "markdown",
   "metadata": {},
   "source": [
    "금융은 금융상품 비교해서 최적의 상태 - 금융상품 데이터를 비교\n",
    "영화는 알고리즘이용 - 가장 재밌는 거 추천 -기존의 데이터를 비교해서 최선의 결과값을 출력\n",
    "\n",
    "\n",
    "1. 데이터 공유 플랫폼 - 캐글\n"
   ]
  }
 ],
 "metadata": {
  "language_info": {
   "name": "python"
  },
  "orig_nbformat": 4
 },
 "nbformat": 4,
 "nbformat_minor": 2
}
