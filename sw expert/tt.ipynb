{
 "cells": [
  {
   "cell_type": "markdown",
   "metadata": {},
   "source": [
    "# 파이썬 기초\n",
    "\n",
    "    저장\n",
    "\n",
    "    변수 : 하나의 값을 저장할 수 있는 저장 공간\n",
    "\n",
    "    무엇을 저장하는가?\n",
    "\n",
    "    숫자\n",
    "\n",
    "    현실세계에 존재하는 모든 숫자, 기본적인 연산이 가능.\n",
    "\n",
    "    글자/문자\n",
    "\n",
    "      1. 현실세계에 존재하는 모든 글자, 파이썬에서 글자를 표현하기 위해서는 따옴표 사용\n",
    "\n",
    "      2. 56=숫자, '56'=문자\n",
    "\n",
    "    3. 참/거짓\n",
    "\n",
    "      1. True / False 단 두가지, 조건문/반복문에 사용된다. \n",
    "\n",
    "    4. 값을 여러개 저장하려면??\n",
    "\n",
    "      1. 리스트(List) 사용\n",
    "\n",
    "      2. 여러개의 연속된 값을 저장할 수 잇는 저장 공간\n",
    "\n",
    "      3. 딕셔너리(Dictionary)\n",
    "\n",
    "        1. 이름표를 단 여러개의 값을 저장할 수 있는 저장공간 => a = {key, value} a.keys() => key값을 list로 만들어서 알려줌 \n",
    "        a.values => value를 리스트로 만들어서 알려줌 a.items => a를 튜플로 만들어서 알려줌\n",
    "\n",
    "2. 조건\n",
    "\n",
    "  1. 만약 ☆이라면 ㅁ해줘 아니라면 ○해줘 if, elif, else\n",
    "\n",
    "3. 반복\n",
    "  1. while / for\n",
    "    - while은 조건이 **True**인 동안 반복적으로 실행되기에 종료 조건이 반드시 필요\n",
    "    - for 정해진 범위를 반복하기에 종료조건이 필요X\n",
    "\n",
    "4. 함수\n",
    "  1. input => FUNCTION => output => 어떤 기능을 하는 코드 덩어리들을 모아 놓은 것\n",
    "  \n",
    "모듈 사용\n",
    "\n",
    "1. 함수가 포함된 파일을 불러와서 사용할 수 있다. => (improt) ex-random 모듈\n"
   ]
  },
  {
   "cell_type": "markdown",
   "metadata": {},
   "source": [
    "# 많이 쓰는 메서드\n",
    "\n",
    "# str에서는 join, split\n",
    "# list에서는 append, pop, extend, reverse(정렬x 변경하는 것 ), sort\n"
   ]
  },
  {
   "cell_type": "markdown",
   "metadata": {},
   "source": [
    "성장과정\n",
    "\n",
    "고등학교 시절, 한 프로젝트에서 \n",
    "\n",
    "성격의 장단점"
   ]
  },
  {
   "cell_type": "code",
   "execution_count": 142,
   "metadata": {},
   "outputs": [
    {
     "name": "stdout",
     "output_type": "stream",
     "text": [
      "[42, 9, 29, 16, 13, 35]\n"
     ]
    }
   ],
   "source": [
    "# lunch = [\"돼지불백\", \"지코바치밥\", \"설렁탕\"]\n",
    "# print(lunch[0])\n",
    "# minseok = {1 : \"돼지불백\", 2 : \"지코바치밥\", \"height\" : 183 }\n",
    "# print(minseok.keys())\n",
    "\n",
    "# name = \"신민석\"\n",
    "# boolean = 300 > 200 #True\n",
    "# print(minseok[\"height\"], name, boolean)\n",
    "# print()\n",
    "\n",
    "# dust = 90\n",
    "\n",
    "# if dust > 150:\n",
    "#     print(\"매우나쁨\")\n",
    "# if 80 < dust <= 150:\n",
    "#     print(\"나쁨\")\n",
    "# else:\n",
    "#     print(\"좋음\")\n",
    "\n",
    "# for i in lunch:\n",
    "#     print(i)\n",
    "\n",
    "# import random\n",
    "# print(random.choice(lunch))\n",
    "\n",
    "# 로또 자동추첨기\n",
    "\n",
    "# 로또의 번호 범위는 1~45\n",
    "# 6개의 숫자를 출력하는 코드\n",
    "\n",
    "import random\n",
    "\n",
    "a = range(1,46)\n",
    "b= random.sample(a, 6)\n",
    "print(b)\n",
    "\n",
    "\n",
    "#\n",
    "\n"
   ]
  },
  {
   "cell_type": "markdown",
   "metadata": {},
   "source": []
  },
  {
   "cell_type": "code",
   "execution_count": null,
   "metadata": {},
   "outputs": [],
   "source": []
  },
  {
   "cell_type": "markdown",
   "metadata": {},
   "source": []
  }
 ],
 "metadata": {
  "kernelspec": {
   "display_name": "Python 3",
   "language": "python",
   "name": "python3"
  },
  "language_info": {
   "codemirror_mode": {
    "name": "ipython",
    "version": 3
   },
   "file_extension": ".py",
   "mimetype": "text/x-python",
   "name": "python",
   "nbconvert_exporter": "python",
   "pygments_lexer": "ipython3",
   "version": "3.9.13"
  },
  "orig_nbformat": 4
 },
 "nbformat": 4,
 "nbformat_minor": 2
}
