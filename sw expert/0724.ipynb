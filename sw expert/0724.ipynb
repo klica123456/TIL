{
 "cells": [
  {
   "cell_type": "code",
   "execution_count": 11,
   "metadata": {},
   "outputs": [
    {
     "name": "stdout",
     "output_type": "stream",
     "text": [
      "[1, 2, 3, 4, 5, 6]\n",
      "(3, 4, 5, 6, 2, 1)\n",
      "['가', '다', '하']\n",
      "['a', 'b', 'c']\n",
      "('c', 3)\n",
      "('b', 10)\n",
      "('a', 5)\n",
      "[('c', 3), ('a', 5), ('b', 10)]\n"
     ]
    }
   ],
   "source": [
    "tup = (3, 4, 5, 6, 2, 1)\n",
    "\n",
    "print(sorted(tup)) #sorted는 원본 변경 X 결과는 list가 됌\n",
    "print(tup)\n",
    "\n",
    "string1 = \"하가다\"\n",
    "\n",
    "print(sorted(string1))\n",
    "\n",
    "dic = {\"c\" : 3, \"b\": 10, \"a\": 5}\n",
    "\n",
    "def sort_key(item):\n",
    "\n",
    "    # 정렬 기준을 return\n",
    "    print(item)\n",
    "    return item[1] # item[i]에서 i가 0이면 key값기준 1이면 value기준으로 정렬\n",
    "\n",
    "print(sorted(dic)) # key만 정렬이 됌\n",
    "print(sorted(dic.items(), key=sort_key)) # key인자는 정렬방법을 서술할 함수\n",
    "\n",
    "# ex) 딕셔너리를 정렬하고 싶은데 키가 아니라 값을 기준으로 정렬하고 싶다.\n",
    "# \"c\" : 3, \"a\" : 5, \"b\" : 10\n"
   ]
  },
  {
   "cell_type": "markdown",
   "metadata": {},
   "source": []
  }
 ],
 "metadata": {
  "kernelspec": {
   "display_name": "Python 3",
   "language": "python",
   "name": "python3"
  },
  "language_info": {
   "codemirror_mode": {
    "name": "ipython",
    "version": 3
   },
   "file_extension": ".py",
   "mimetype": "text/x-python",
   "name": "python",
   "nbconvert_exporter": "python",
   "pygments_lexer": "ipython3",
   "version": "3.9.13"
  },
  "orig_nbformat": 4
 },
 "nbformat": 4,
 "nbformat_minor": 2
}
