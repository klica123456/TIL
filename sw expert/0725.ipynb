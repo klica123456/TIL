{
 "cells": [
  {
   "cell_type": "code",
   "execution_count": 10,
   "metadata": {},
   "outputs": [
    {
     "name": "stdout",
     "output_type": "stream",
     "text": [
      "{'A': 3, 'B': 3, 'O': 3, 'AB': 3}\n",
      "{'A': 3, 'B': 3, 'O': 3, 'AB': 3}\n",
      "{'A': 3, 'B': 3, 'O': 3, 'AB': 3}\n"
     ]
    }
   ],
   "source": [
    "#혈액형 인원수 세기\n",
    "# 결과 => {'A':3, 'B':3, 'O':3, 'AB':3}\n",
    "blood_types = ['A', 'B', 'A', 'O', 'AB', 'AB', 'O', 'A', 'B', 'O', 'B', 'AB']\n",
    "\n",
    "#[]\n",
    "new_dict = {}\n",
    "#blood_types을 순회하면서\n",
    "for blood_type in blood_types:\n",
    "    #기존의 키가 이미 존재한다면, \n",
    "    if blood_type in new_dict:\n",
    "        #기존의 키의 값을 +1 증가\n",
    "        new_dict[blood_type] += 1\n",
    "    #키가 존재하지 않는다면(처음 설정되는 키)\n",
    "    else:\n",
    "        new_dict[blood_type] = 1\n",
    "print(new_dict)\n",
    "\n",
    "# .get()\n",
    "new_dict = {}\n",
    "#blood_types을 순회하면서\n",
    "for blood_type in blood_types:\n",
    "\n",
    "    new_dict[blood_type] = new_dict.get(blood_type, 0) + 1\n",
    "\n",
    "print(new_dict)\n",
    "\n",
    "# . setdefault()- 값이 없으면 setting까지 해줌\n",
    "new_dict = {}\n",
    "#blood_types을 순회하면서\n",
    "for blood_type in blood_types:\n",
    "\n",
    "    new_dict.setdefault(blood_type, 0)\n",
    "    new_dict[blood_type] += 1\n",
    "\n",
    "print(new_dict)\n"
   ]
  },
  {
   "cell_type": "markdown",
   "metadata": {},
   "source": [
    "### get은 dic에서 key로 value를 출력 but get을 안쓰는 거랑 다른 건 없어도 None출력 그리고 None말고 내가 정할 수도 있음."
   ]
  },
  {
   "cell_type": "code",
   "execution_count": null,
   "metadata": {},
   "outputs": [],
   "source": [
    "#얕은 복사의 한계 list안에 list 즉 단계적인 깊이가 깊어짐\n",
    "# 2단계에서는 같은 list를 참조하고 있음 - 오류 따라서 깊은 복사 사용해야 됌\n",
    "\n",
    "\n",
    "\n",
    "\n"
   ]
  }
 ],
 "metadata": {
  "kernelspec": {
   "display_name": "Python 3",
   "language": "python",
   "name": "python3"
  },
  "language_info": {
   "codemirror_mode": {
    "name": "ipython",
    "version": 3
   },
   "file_extension": ".py",
   "mimetype": "text/x-python",
   "name": "python",
   "nbconvert_exporter": "python",
   "pygments_lexer": "ipython3",
   "version": "3.9.13"
  },
  "orig_nbformat": 4
 },
 "nbformat": 4,
 "nbformat_minor": 2
}
