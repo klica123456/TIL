{
 "cells": [
  {
   "cell_type": "markdown",
   "id": "c5ae21c6",
   "metadata": {},
   "source": [
    "# 'M' :마크다운 모드로 변경\n",
    "\n",
    "## 'Y' : 다시 코드모드로 변경\n",
    "\n",
    "# ESC 저장 엔터 수정\n",
    "\n",
    "# 'A' :커서 기준 아래 쉘하나 추가\n",
    "\n",
    "# 'B' : 커서 기준 아래에 쉘 하나 추가\n",
    "\n",
    "# 'DD' : 쉘 삭제\n",
    "\n",
    "# 'SHIFT+ENTER' :실행 후 커서를 아래로 이동\n",
    "\n",
    "# 'CTRL + ENTER : 실행 후 커서를 제자리에"
   ]
  },
  {
   "cell_type": "code",
   "execution_count": 10,
   "id": "fb7346bc",
   "metadata": {
    "scrolled": false
   },
   "outputs": [
    {
     "name": "stdout",
     "output_type": "stream",
     "text": [
      "test\n"
     ]
    }
   ],
   "source": [
    "print('test')"
   ]
  },
  {
   "cell_type": "code",
   "execution_count": 25,
   "id": "7584c7fe",
   "metadata": {},
   "outputs": [],
   "source": [
    "API_KEY = '177e24a837173df1c05fe04009f0479c'"
   ]
  },
  {
   "cell_type": "code",
   "execution_count": 29,
   "id": "26153050",
   "metadata": {},
   "outputs": [],
   "source": [
    "#서울의 위도 경도를 활용해서 데이터를 받아왔다.\n",
    "lat = 37.56\n",
    "lon = 126.97\n",
    "city_name = 'Seoul,KR'\n",
    "url = f'https://api.openweathermap.org/data/2.5/weather?q={city_name}&appid={API_KEY}'"
   ]
  },
  {
   "cell_type": "code",
   "execution_count": 35,
   "id": "84df8566",
   "metadata": {},
   "outputs": [
    {
     "data": {
      "text/plain": [
       "303.36"
      ]
     },
     "execution_count": 35,
     "metadata": {},
     "output_type": "execute_result"
    }
   ],
   "source": [
    "import requests\n",
    "\n",
    "# API 요청 보내기\n",
    "response = requests.get(url).json()\n",
    "# 온도만 출력 - 켈빈온도\n",
    "# temp = response['main']['temp']\n",
    "# temp -= 273.15\n",
    "# temp\n",
    "response['main']['temp']"
   ]
  },
  {
   "cell_type": "code",
   "execution_count": 33,
   "id": "416a8f4e",
   "metadata": {},
   "outputs": [
    {
     "data": {
      "text/plain": [
       "{'coord': {'lon': 126.9778, 'lat': 37.5683},\n",
       " 'weather': [{'id': 721,\n",
       "   'main': 'Haze',\n",
       "   'description': 'haze',\n",
       "   'icon': '50d'}],\n",
       " 'base': 'stations',\n",
       " 'main': {'temp': 303.36,\n",
       "  'feels_like': 307.72,\n",
       "  'temp_min': 302.81,\n",
       "  'temp_max': 303.91,\n",
       "  'pressure': 1012,\n",
       "  'humidity': 66},\n",
       " 'visibility': 6000,\n",
       " 'wind': {'speed': 1.54, 'deg': 170},\n",
       " 'clouds': {'all': 20},\n",
       " 'dt': 1689903982,\n",
       " 'sys': {'type': 1,\n",
       "  'id': 8105,\n",
       "  'country': 'KR',\n",
       "  'sunrise': 1689884782,\n",
       "  'sunset': 1689936610},\n",
       " 'timezone': 32400,\n",
       " 'id': 1835848,\n",
       " 'name': 'Seoul',\n",
       " 'cod': 200}"
      ]
     },
     "execution_count": 33,
     "metadata": {},
     "output_type": "execute_result"
    }
   ],
   "source": [
    "response"
   ]
  },
  {
   "cell_type": "code",
   "execution_count": null,
   "id": "e3ad8e67",
   "metadata": {},
   "outputs": [],
   "source": []
  }
 ],
 "metadata": {
  "kernelspec": {
   "display_name": "Python 3 (ipykernel)",
   "language": "python",
   "name": "python3"
  },
  "language_info": {
   "codemirror_mode": {
    "name": "ipython",
    "version": 3
   },
   "file_extension": ".py",
   "mimetype": "text/x-python",
   "name": "python",
   "nbconvert_exporter": "python",
   "pygments_lexer": "ipython3",
   "version": "3.9.13"
  },
  "toc": {
   "base_numbering": 1,
   "nav_menu": {},
   "number_sections": true,
   "sideBar": true,
   "skip_h1_title": false,
   "title_cell": "Table of Contents",
   "title_sidebar": "Contents",
   "toc_cell": false,
   "toc_position": {},
   "toc_section_display": true,
   "toc_window_display": false
  }
 },
 "nbformat": 4,
 "nbformat_minor": 5
}
