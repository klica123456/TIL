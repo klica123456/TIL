{
 "cells": [
  {
   "cell_type": "markdown",
   "metadata": {},
   "source": [
    "if나 for는 한문장씩은 적어줘야 되므로 이 빈칸을 채우는 용도 - pass\n"
   ]
  },
  {
   "cell_type": "code",
   "execution_count": null,
   "metadata": {},
   "outputs": [],
   "source": []
  },
  {
   "cell_type": "code",
   "execution_count": null,
   "metadata": {},
   "outputs": [],
   "source": [
    "for name in scores: #기본적으로 key를 가져옴\n",
    "    print(f\"{name} : {scores[name]} {scores.get(name)}\")\n",
    "\n",
    "for name in scores.keys(): #key만 가져옴\n",
    "    print(f\"{name} : {scores[name]} {scores.get(name)}\")\n",
    "\n",
    "for score in scores.values(): # value만 가져옴\n",
    "    print(score)\n",
    "\n",
    "for key, value in scores.items(): # key value 둘다 가져옴\n",
    "    print(f\"{key} : {value}\")"
   ]
  }
 ],
 "metadata": {
  "language_info": {
   "name": "python"
  },
  "orig_nbformat": 4
 },
 "nbformat": 4,
 "nbformat_minor": 2
}
