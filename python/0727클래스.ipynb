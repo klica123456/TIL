{
 "cells": [
  {
   "cell_type": "markdown",
   "metadata": {},
   "source": [
    "- 상속\n",
    "    - 기존 클래스의 속성과 클래스를 몰려받아 새로운 하위 클래스를 생성하는 것\n",
    "    - 재사용성, 일관성 유지할 수 있음\n",
    "    - 하위클래스는 부모클래스의 모든 특징을 몰려받을 수 있음\n",
    "    - class하위(부모) 이렇게 사용가능\n",
    "\n",
    "- 다중상속\n",
    "    - 여러 부모로부터 상속을 받을 때\n",
    "    - 부모의 속성명이 겹쳤을 때, 상속을 받는 순서대로 찾아나감\n",
    "    - 중복된 속성이나 메서드가 있는 경우 상속 순서에 의해 결정됨\n",
    "    - 자동으로 부모의 상속순서 생각해서 속성을 호출하는 함수 # super() = 부모 클래스의 메서드를 호출하기 위해 사용되는 내장 함수, 부모의 메서드와 속성 다 불러올 때 사용가능\n",
    "\n",
    "- 상속 관련 함수와 메서드\n",
    "    - mro()\n",
    "        - 해당 힌스턴스의 클래스가 어떤 부모 클래스를 가지는지 확인하는 메서드\n",
    "        - 기존의 인스턴스 -> 클래스 순으로 이름 공간을 탐색하는 과정에서 상속관계에 있으면 인스턴스 -> 자식 클래스 -> 부모 클래스로 확장 - super함수가 이 순서대로 동작\n",
    "    \n"
   ]
  },
  {
   "cell_type": "code",
   "execution_count": 6,
   "metadata": {},
   "outputs": [
    {
     "name": "stdout",
     "output_type": "stream",
     "text": [
      "반갑습니다. 박교수입니다.\n",
      "반갑습니다. 김학생입니다.\n"
     ]
    }
   ],
   "source": [
    "class Person:\n",
    "    def __init__(self, name, age):\n",
    "        self.name = name\n",
    "        self.age = age\n",
    "\n",
    "    def talk(self):\n",
    "        print(f'반갑습니다. {self.name}입니다.')\n",
    "\n",
    "class Professor(Person):\n",
    "    def __init__(self, name, age, department):\n",
    "        # super().__init__(name, age)\n",
    "        Person.__init__(self, name, age) # 위 아래 둘다 똑같은 역할 but 부모의 이름이 바뀌면 제 기능을 못함\n",
    "        # 유연함이 떨어짐\n",
    "        \n",
    "        self.department = department\n",
    "\n",
    "class Student(Person):\n",
    "    def __init__(self,name, age, gpa):\n",
    "        super().__init__(name, age)\n",
    "        self.gpa = gpa\n",
    "\n",
    "\n",
    "p1 = Professor('박교수', 49, '컴퓨터공학과')\n",
    "s1 = Student('김학생', 20, 3.5)\n",
    "\n",
    "p1.talk()\n",
    "s1.talk()\n"
   ]
  },
  {
   "cell_type": "code",
   "execution_count": 7,
   "metadata": {},
   "outputs": [
    {
     "name": "stdout",
     "output_type": "stream",
     "text": [
      "첫째가 응애\n",
      "첫째가 수영\n",
      "아빠가 걷기\n",
      "XX\n",
      "안녕, 아가\n",
      "XY\n",
      "[<class '__main__.FirstChild'>, <class '__main__.Mom'>, <class '__main__.Dad'>, <class '__main__.Person'>, <class 'object'>]\n",
      "(<class '__main__.FirstChild'>, <class '__main__.Mom'>, <class '__main__.Dad'>, <class '__main__.Person'>, <class 'object'>)\n",
      "50\n"
     ]
    }
   ],
   "source": [
    "class Person:\n",
    "    def __init__(self, name):\n",
    "        self.name = name\n",
    "\n",
    "    def greeting(self):\n",
    "        return f'안녕, {self.name}'\n",
    "    # class사이는 두줄씩 띄우는게 좋음\n",
    "\n",
    "class Mom(Person):\n",
    "        \n",
    "    gene = 'XX'\n",
    "\n",
    "        # def __init__(self, name):\n",
    "        #       super().__init__(name) #명시성을 위해 작성해 주는 것이 좋음\n",
    "\n",
    "    def swim(self):\n",
    "        return '엄마가 수영'\n",
    "\n",
    "\n",
    "class Dad(Person):\n",
    "    gene = 'XY'\n",
    "    def __init__(self, name, age):\n",
    "        super().__init__(name)\n",
    "        self.age = age\n",
    "\n",
    "    def walk(self):\n",
    "        return '아빠가 걷기'\n",
    "       \n",
    "\n",
    "class FirstChild(Mom, Dad):\n",
    "    dad_gene = Dad.gene #super()는 못씀 Mom부터 정보를 읽어오기 때문에 Dad의 정보를 읽어오려면직관적으로 이렇게 써주는 것이 좋음\n",
    "\n",
    "    def __init__(self, name, age):\n",
    "        super().__init__(name, age)\n",
    "        # Dad.__init__(self, name, age) 슈퍼안쓰고 부모이름을 직접불러서 사용하면 class가 중복호출이 될 수 있어 별로 좋은 방법은 아님\n",
    "        # Mom.__init__(self, name) 이렇게 Dad, Mom에서 Person이 두번 호출되서 원하는 대로 동작안할 수도 있음\n",
    "\n",
    "\n",
    "    def swim(self):\n",
    "\n",
    "        return '첫째가 수영'\n",
    "       \n",
    "    def cry(self):\n",
    "\n",
    "        return '첫째가 응애'\n",
    "       \n",
    "    \n",
    "baby1 = FirstChild('아가', 50)\n",
    "print(baby1.cry())\n",
    "print(baby1.swim())\n",
    "print(baby1.walk())\n",
    "print(baby1.gene)\n",
    "print(baby1.greeting())\n",
    "print(baby1.dad_gene)\n",
    "print(FirstChild.mro())\n",
    "print(FirstChild.__mro__) # 자식부터 부모순으로 나옴\n",
    "\n",
    "print(baby1.age)\n"
   ]
  },
  {
   "cell_type": "markdown",
   "metadata": {},
   "source": [
    "- IndentationError 잘못된 들여쓰기와 관련된 문법 오류\n",
    "- try - except 구조\n",
    "- try - 예외가 발생할 수 있는 코드\n",
    "- except 예외: - 예외 처리 코드\n",
    "\n",
    "## 다형성\n",
    "\n",
    "여러 모양을 뜻한다. 동일한 메서드가 클래스에 따라 다르게 동작할 수 있다.\n",
    "서로 다른 클래스에 속해있는 객체들이 동일한 메시지에 대래 각기 다른방식으로 응답(동작)\n",
    "\n",
    "\n",
    "메서드 오버라이딩\n",
    "\n",
    "- 겹치는게 있으면 mro()순서대로 실행함\n",
    "- 상속받은 메서드를 그대로 사용하는게 아니라 \n",
    "\n",
    "\n",
    "## 캡슐화\n",
    "\n",
    "객체의 일부 구현 내용에 대해 외부로부터의 직접적인 접근을 차단한다.\n",
    "변수의 직접접근을 차단하고 잘못된 정보가 들어오면 변경하지 않는다.\n",
    "\n",
    "\n",
    "- 알고리즘 풀때는 EAFP, LBYL중 LBYL로 푼다. 즉 완벽한 조건하에서 예외가 없다는 조건하에 풀어야됨 try-except로 풀면 안된다.\n"
   ]
  },
  {
   "cell_type": "code",
   "execution_count": 12,
   "metadata": {},
   "outputs": [
    {
     "name": "stdout",
     "output_type": "stream",
     "text": [
      "15\n",
      "50000\n"
     ]
    }
   ],
   "source": [
    "#캡슐화\n",
    "\n",
    "class Person:\n",
    "\n",
    "    def __init__(self, name, age):\n",
    "        self.name = name\n",
    "        self.__age = age #클래스 외부에서 접근 불가능하게 됨\n",
    "\n",
    "    def get_age(self):\n",
    "        return self.__age\n",
    "    \n",
    "    def set_age(self, age):\n",
    "        if type(age) == str:\n",
    "            print(\"나이가 잘못되었다\")\n",
    "            return \n",
    "        \n",
    "        self.__age = age\n",
    "\n",
    "p1 = Person(\"minseok\", 15)\n",
    "\n",
    "# print(p1.__age) 변수직접 접근 차단\n",
    "print(p1.get_age()) # 메소드를 통해서만 접근하도록 설계 - 마음대로 변경하지 못하도록 하는 것\n",
    "# 메소드를 통해서 변경하도록 만들어 줄수도 있습니다.\n",
    "\n",
    "p1.set_age(20)\n",
    "\n",
    "print(p1.get_age())\n"
   ]
  }
 ],
 "metadata": {
  "kernelspec": {
   "display_name": "Python 3",
   "language": "python",
   "name": "python3"
  },
  "language_info": {
   "codemirror_mode": {
    "name": "ipython",
    "version": 3
   },
   "file_extension": ".py",
   "mimetype": "text/x-python",
   "name": "python",
   "nbconvert_exporter": "python",
   "pygments_lexer": "ipython3",
   "version": "3.9.13"
  },
  "orig_nbformat": 4
 },
 "nbformat": 4,
 "nbformat_minor": 2
}
