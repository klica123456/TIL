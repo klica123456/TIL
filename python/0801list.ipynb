{
 "cells": [
  {
   "cell_type": "code",
   "execution_count": 1,
   "metadata": {},
   "outputs": [],
   "source": [
    "def counting_sort_asc(A, B, K):\n",
    "    # A : 정렬 대상\n",
    "    # B : 정렬 대상\n",
    "    # K : 정렬 대상 중 최댓값 (숫자 수를 세야하는데 배열의 크기)\n",
    "    C = [0] *(K + 1)\n",
    "    # C : 카운트 배열(원소의 개수를 세주고, 자리를 정해 준다.)\n",
    "    # C[i] = i의 등장횟수\n",
    "    # C[i] => A안에 1이 몇개 있는지??\n",
    "\n",
    "    # 1. 각 원소의 등장 횟수를 세준다.\n",
    "    for i in rnage(len(A)):\n",
    "        # A[i]의 등장 횟수를 하나씩 증가 시켜 주면 된다.\n",
    "        C[]\n"
   ]
  },
  {
   "cell_type": "markdown",
   "metadata": {},
   "source": [
    "### 최소 버블정렬은 아무것도 없이 짤줄 알아야 한다.\n",
    "\n",
    "- 안정 정렬\n",
    "    - dict정렬일때는 같은 value값이 있는데 정렬 후 원래 데이터 순서를 보장해 주는 것 - 그래서 뒤에서 부터 정렬하는 것\n",
    "- 불안정 정렬\n",
    "    - dict정렬일때는 같은 value값이 있는데 정렬 후 원래 데이터 순서를 보장X\n",
    "\n",
    "\n",
    "\n"
   ]
  },
  {
   "cell_type": "code",
   "execution_count": 8,
   "metadata": {},
   "outputs": [
    {
     "name": "stdout",
     "output_type": "stream",
     "text": [
      "[5, 4, 3, 3, 3, 1, 0]\n"
     ]
    }
   ],
   "source": [
    "def count_sort_dsc(A):\n",
    "    C = [0] * (max(A) + 1)\n",
    "    B = [0] * len(A)\n",
    "    for i in range(len(A)):\n",
    "        C[A[i]] += 1\n",
    "    for i in range(1, len(C)):\n",
    "        C[i] += C[i-1]\n",
    "    for i in range(len(B)-1, -1, -1):\n",
    "        C[A[i]] -= 1\n",
    "        B[len(B) - C[A[i]] - 1] = A[i]\n",
    "    return B\n",
    "\n",
    "A = [0, 1, 3, 5, 3, 3, 4]\n",
    "\n",
    "print(count_sort_dsc(A))\n",
    "\n",
    "\n",
    "    \n",
    "                    \n",
    "\n"
   ]
  },
  {
   "cell_type": "code",
   "execution_count": null,
   "metadata": {},
   "outputs": [],
   "source": [
    "#16118 구간합 문제\n",
    "T = int(input())\n",
    "\n",
    "for tc in range(1, T+1):\n",
    "    N, M = map(int, input().split())\n",
    "    numbers = list(map(int, input().split()))\n",
    "\n",
    "    max_sum = 0\n",
    "    min_sum = 0\n",
    "\n",
    "    for j in range(M):\n",
    "        sub_sum += numbers[i+j]\n",
    "\n",
    "    max_sum = sub_sum if sub_sum > max_sum else max_sum\n",
    "    min_sum = sub_sum if sub_sum < mix_sum else min_sum"
   ]
  }
 ],
 "metadata": {
  "kernelspec": {
   "display_name": "Python 3",
   "language": "python",
   "name": "python3"
  },
  "language_info": {
   "codemirror_mode": {
    "name": "ipython",
    "version": 3
   },
   "file_extension": ".py",
   "mimetype": "text/x-python",
   "name": "python",
   "nbconvert_exporter": "python",
   "pygments_lexer": "ipython3",
   "version": "3.9.13"
  },
  "orig_nbformat": 4
 },
 "nbformat": 4,
 "nbformat_minor": 2
}
