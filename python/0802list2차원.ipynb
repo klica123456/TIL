{
 "cells": [
  {
   "cell_type": "markdown",
   "metadata": {},
   "source": [
    "### 2차원 배열의 선언\n",
    "\n",
    "- 2차원 이상의 다차원 List는 차원에 따라 index를 선언"
   ]
  },
  {
   "cell_type": "code",
   "execution_count": 167,
   "metadata": {},
   "outputs": [
    {
     "name": "stdout",
     "output_type": "stream",
     "text": [
      "True\n"
     ]
    }
   ],
   "source": [
    "# import sys\n",
    "# sys.stdin = open(\"in.txt\", \"r\") # text파일 불러오는 방법 \"r\"은 읽기 전용\n",
    "\n",
    "# #지그재그 순회\n",
    "# Array = [[1, 2, 3], [4, 5, 6], [7, 8, 9]]\n",
    "# n = len(Array)\n",
    "# m = len(Array[0])\n",
    "\n",
    "# for i in range(n):\n",
    "#     for j in range(m):\n",
    "#             pass\n",
    "#         # print(Array[i][j + (m-1-2*j)*(i%2)])\n",
    "#         # print(j + (m-1-2*j)*(i%2))\n",
    "\n",
    "# # 델타를 이용한 2차원 배열 탐색\n",
    "# di = [0, 1, 0, -1]\n",
    "# dj = [1, 0, -1, 0]\n",
    "\n",
    "# # for i in range(n):\n",
    "# #     for j in range(m):\n",
    "# #         for k in range(4):\n",
    "# #             ni = i + di[k]\n",
    "# #             nj = j + dj[k]\n",
    "# #             if 0 <= ni < 3 and 0 <= nj < 3:\n",
    "# #                 print(Array[ni][nj])\n",
    "# # print(Array)\n",
    "\n",
    "# # 전치행렬 - i = j 인 대각선기준으로 i와 j가 바뀐 행렬\n",
    "\n",
    "# # 연습문제 1\n",
    "import random\n",
    "k = random.sample(range(1, 26), 25)\n",
    "# # print(k)\n",
    "# l = 0\n",
    "# lis = [[0] * 5 for _ in range(5)]\n",
    "# for i in range(5):\n",
    "#     for j in range(5):\n",
    "#         lis[i][j] = k[l]\n",
    "#         l += 1\n",
    "# num = 0\n",
    "# for i in range(5):\n",
    "#     for j in range(5):\n",
    "#         for k in range(4):\n",
    "#             ni = i + di[k]\n",
    "#             nj = j + dj[k]\n",
    "#             if 0 <= ni < 5 and 0 <= nj < 5: #다른언어에선 부등호를 따로 써줘야됨\n",
    "#                 num += abs(lis[ni][nj]-lis[i][j])\n",
    "# print(num)\n",
    "a= '123'+ '12'\n",
    "b = '12' + '123'\n",
    "print(a>b)"
   ]
  },
  {
   "cell_type": "code",
   "execution_count": 133,
   "metadata": {},
   "outputs": [
    {
     "name": "stdout",
     "output_type": "stream",
     "text": [
      "[[1, 0, 0, 0], [0, 0, 0, 0]]\n",
      "[[1, 0, 0, 0], [1, 0, 0, 0]]\n"
     ]
    }
   ],
   "source": [
    "#2차원 배열 만들때\n",
    "N = 2\n",
    "M = 4\n",
    "\n",
    "arr = [[0]*M for _ in range(N)]\n",
    "arr2 = [[0]*M]*N\n",
    "arr[0][0] = 1\n",
    "arr2[0][0] = 1 # 두 행의 첫번째 값이 바뀜 왜나면 [0] * M 을 만들고 참조하는게 N개가 되는 list가 형성되므로\n",
    "print(arr)\n",
    "print(arr2)"
   ]
  },
  {
   "cell_type": "code",
   "execution_count": 8,
   "metadata": {},
   "outputs": [
    {
     "name": "stdout",
     "output_type": "stream",
     "text": [
      "1\n",
      "4\n"
     ]
    }
   ],
   "source": [
    "#비트 연산자\n",
    "# bit1 = 0b1101\n",
    "# bit2 = [1, 1, 0, 1]\n",
    "\n",
    "# n = 1 << 3\n",
    "\n",
    "# print(bin(0b1101 & 0b1001))\n",
    "# m = bit1 & (1<<2)\n",
    "\n",
    "# print(m)\n",
    "\n",
    "#부분집합 구하기\n",
    "# arr = [3, 6, 7, 1, 5, 4]\n",
    "\n",
    "# n = len(arr)\n",
    "\n",
    "# for i in range(1<<n):\n",
    "#     for j in range(n):\n",
    "#         if i & (1<<j): # i에서 오른쪽으로부터 j+1번째 비트가 1인지 0인지를 리턴한다.\n",
    "                        #i의 j+1번째 비트가 1이면 j+1번째 원소 출력\n",
    "#             print(arr[j], end = \", \")\n",
    "#     print()\n",
    "# print()\n",
    "\n",
    "# 연습문제 2\n",
    "n = list(map(int, (input().split())))\n",
    "num = 0\n",
    "n_len = len(n)\n",
    "for i in range(1<<n_len):\n",
    "    a = 0\n",
    "    for j in range(n_len):\n",
    "        if i & (1<<j):\n",
    "            a += n[j]\n",
    "    if a == 0:\n",
    "        num += 1\n",
    "print(num)\n",
    "\n",
    "print(1<<2)"
   ]
  },
  {
   "cell_type": "markdown",
   "metadata": {},
   "source": [
    "- << 연산자 = 2를 곱한것\n",
    "- \\>> 연산자 = 2를 나눈 것"
   ]
  }
 ],
 "metadata": {
  "kernelspec": {
   "display_name": "Python 3",
   "language": "python",
   "name": "python3"
  },
  "language_info": {
   "codemirror_mode": {
    "name": "ipython",
    "version": 3
   },
   "file_extension": ".py",
   "mimetype": "text/x-python",
   "name": "python",
   "nbconvert_exporter": "python",
   "pygments_lexer": "ipython3",
   "version": "3.9.13"
  },
  "orig_nbformat": 4
 },
 "nbformat": 4,
 "nbformat_minor": 2
}
